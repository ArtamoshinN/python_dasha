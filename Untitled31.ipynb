{
 "cells": [
  {
   "cell_type": "code",
   "execution_count": 1,
   "metadata": {},
   "outputs": [
    {
     "name": "stdout",
     "output_type": "stream",
     "text": [
      "1\n",
      "1\n",
      "1\n",
      "1\n",
      "YES\n"
     ]
    }
   ],
   "source": [
    "x1 = int(input())\n",
    "y1 = int(input())\n",
    "x2 = int(input())\n",
    "y2 = int(input())\n",
    "if x1 > 0 and x2 > 0 and y1 > 0 and y2 > 0:\n",
    "    print('YES')\n",
    "elif x1 > 0 and x2 > 0 and y1 < 0 and y2 < 0:\n",
    "    print('YES')\n",
    "elif x1 < 0 and x2 < 0 and y1 < 0 and y2 < 0:\n",
    "    print('YES')\n",
    "elif x1 < 0 and x2 < 0 and y1 > 0 and y2 > 0:\n",
    "    print('YES')\n",
    "else:\n",
    "    print('NO')\n"
   ]
  },
  {
   "cell_type": "code",
   "execution_count": 24,
   "metadata": {},
   "outputs": [
    {
     "name": "stdout",
     "output_type": "stream",
     "text": [
      "1\n",
      "1\n",
      "10\n",
      "impossible\n"
     ]
    }
   ],
   "source": [
    "a = int(input())\n",
    "b = int(input())\n",
    "c = int(input())\n",
    "if c >= a and c >= b and a + b > c:\n",
    "    if c ** 2 == a ** 2 + b ** 2:\n",
    "        print('rectangular')\n",
    "    elif c ** 2 > a ** 2 + b ** 2:\n",
    "        print('obtuse')\n",
    "    elif c ** 2 < a ** 2 + b ** 2:\n",
    "        print('acute')\n",
    "        \n",
    "elif a >= c and a >= b and c + b > a:\n",
    "    if a ** 2 == b ** 2 + c ** 2:\n",
    "        print('rectangular')\n",
    "    elif a ** 2 > b ** 2 + c ** 2:\n",
    "        print('obtuse')\n",
    "    elif a ** 2 < b ** 2 + c ** 2:\n",
    "        print('acute')\n",
    "        \n",
    "elif b >= c and b >= a and a + c > b:\n",
    "    if b ** 2 == a ** 2 + c ** 2:\n",
    "        print('rectangular')\n",
    "    elif b ** 2 > a ** 2 + c ** 2:\n",
    "        print('obtuse')\n",
    "    elif b ** 2 < a ** 2 + c ** 2:\n",
    "        print('acute')\n",
    "else:\n",
    "    print('impossible')\n",
    "\n",
    "\n"
   ]
  },
  {
   "cell_type": "code",
   "execution_count": null,
   "metadata": {
    "collapsed": true
   },
   "outputs": [],
   "source": []
  }
 ],
 "metadata": {
  "kernelspec": {
   "display_name": "Python 3",
   "language": "python",
   "name": "python3"
  },
  "language_info": {
   "codemirror_mode": {
    "name": "ipython",
    "version": 3
   },
   "file_extension": ".py",
   "mimetype": "text/x-python",
   "name": "python",
   "nbconvert_exporter": "python",
   "pygments_lexer": "ipython3",
   "version": "3.6.1"
  }
 },
 "nbformat": 4,
 "nbformat_minor": 2
}
