{
 "cells": [
  {
   "cell_type": "code",
   "execution_count": 4,
   "metadata": {},
   "outputs": [
    {
     "name": "stdout",
     "output_type": "stream",
     "text": [
      "10\n",
      "True\n"
     ]
    }
   ],
   "source": [
    "a = int(input())\n",
    "isEven = a % 2 == 0\n",
    "print(isEven)\n"
   ]
  },
  {
   "cell_type": "code",
   "execution_count": 3,
   "metadata": {},
   "outputs": [
    {
     "name": "stdout",
     "output_type": "stream",
     "text": [
      "18\n",
      "18\n",
      "18\n"
     ]
    }
   ],
   "source": [
    "a = int(input())\n",
    "b = int(input())\n",
    "if a >= b:\n",
    "    print(a)\n",
    "else:\n",
    "    print(b)"
   ]
  },
  {
   "cell_type": "code",
   "execution_count": 2,
   "metadata": {},
   "outputs": [
    {
     "name": "stdout",
     "output_type": "stream",
     "text": [
      "11\n",
      "11\n",
      "11\n"
     ]
    }
   ],
   "source": [
    "a = int(input())\n",
    "b = int(input())\n",
    "if a > b:\n",
    "    print(a)\n",
    "elif a == b:\n",
    "    print(a)\n",
    "else:\n",
    "    print(b)"
   ]
  },
  {
   "cell_type": "code",
   "execution_count": null,
   "metadata": {
    "collapsed": true
   },
   "outputs": [],
   "source": [
    "a = int(input())\n",
    "b = int(input())\n",
    "c = int(input())\n",
    "if a > b:\n",
    "    if a > c:\n",
    "        print(a)\n",
    "    else:\n",
    "        print(c)\n",
    "else:\n",
    "    if b > c:\n",
    "        print(b)\n",
    "    else:\n",
    "        print(c)\n"
   ]
  },
  {
   "cell_type": "code",
   "execution_count": null,
   "metadata": {
    "collapsed": true
   },
   "outputs": [],
   "source": [
    "n = int(input())\n",
    "if (n % 4 == 0) and (n % 100 != 0) or (n % 400 == 0):\n",
    "    print('YES')\n",
    "else:\n",
    "    print('NO')"
   ]
  },
  {
   "cell_type": "code",
   "execution_count": null,
   "metadata": {
    "collapsed": true
   },
   "outputs": [],
   "source": [
    "x1 = int(input())\n",
    "y1 = int(input())\n",
    "x2 = int(input())\n",
    "y2 = int(input())\n",
    "if (x2 - x1 == 0) or (x1 - x2 == 1) or (x1 - x2 == -1):\n",
    "    if (y2 - y1 == 0) or (y1 - y2 == 1) or (y1 - y2 == -1):\n",
    "        print('YES')\n",
    "    else:\n",
    "        print('NO')\n",
    "else:\n",
    "    print('NO')"
   ]
  },
  {
   "cell_type": "code",
   "execution_count": null,
   "metadata": {
    "collapsed": true
   },
   "outputs": [],
   "source": [
    "x = int(input())\n",
    "y = int(input())\n",
    "if y % (y - x + 1) == 0:\n",
    "    print('YES')\n",
    "else:\n",
    "    print('NO')"
   ]
  },
  {
   "cell_type": "code",
   "execution_count": null,
   "metadata": {
    "collapsed": true
   },
   "outputs": [],
   "source": [
    "x1 = int(input())\n",
    "y1 = int(input())\n",
    "x2 = int(input())\n",
    "y2 = int(input())\n",
    "if (x1 + y1) % 2 == (x2 + y2) % 2 == 0 or (x1 + y1) % 2 == (x2 + y2) % 2 == 1:\n",
    "    print('YES')\n",
    "else:\n",
    "    print('NO')\n"
   ]
  },
  {
   "cell_type": "code",
   "execution_count": null,
   "metadata": {
    "collapsed": true
   },
   "outputs": [],
   "source": [
    "n = int(input())\n",
    "m = int(input())\n",
    "k = int(input())\n",
    "if n * m % k == 0:\n",
    "    print('YES')\n",
    "else:\n",
    "    print('NO')"
   ]
  },
  {
   "cell_type": "code",
   "execution_count": null,
   "metadata": {
    "collapsed": true
   },
   "outputs": [],
   "source": [
    "n = int(input())\n",
    "a = n % 10\n",
    "b = n // 10\n",
    "if a == 1 and b != 1:\n",
    "    print(n, 'korova')\n",
    "elif 2 <= a <= 4 and b != 1:\n",
    "    print(n, 'korovy')\n",
    "else:\n",
    "    print(n, 'korov')"
   ]
  },
  {
   "cell_type": "code",
   "execution_count": null,
   "metadata": {
    "collapsed": true
   },
   "outputs": [],
   "source": [
    "x = int(input())\n",
    "if x > 0:\n",
    "    print(1)\n",
    "elif x < 0:\n",
    "    print(-1)\n",
    "else:\n",
    "    print(0)"
   ]
  },
  {
   "cell_type": "code",
   "execution_count": null,
   "metadata": {
    "collapsed": true
   },
   "outputs": [],
   "source": [
    "x1 = int(input())\n",
    "y1 = int(input())\n",
    "x2 = int(input())\n",
    "y2 = int(input())\n",
    "if x1 > 0 and x2 > 0 and y1 > 0 and y2 > 0:\n",
    "    print('YES')\n",
    "elif x1 > 0 and x2 > 0 and y1 < 0 and y2 < 0:\n",
    "    print('YES')\n",
    "elif x1 < 0 and x2 < 0 and y1 < 0 and y2 < 0:\n",
    "    print('YES')\n",
    "elif x1 < 0 and x2 < 0 and y1 > 0 and y2 > 0:\n",
    "    print('YES')\n",
    "else:\n",
    "    print('NO')"
   ]
  },
  {
   "cell_type": "code",
   "execution_count": null,
   "metadata": {
    "collapsed": true
   },
   "outputs": [],
   "source": [
    "a = int(input())\n",
    "b = int(input())\n",
    "c = int(input())\n",
    "if c >= a and c >= b and a + b > c:\n",
    "    if c ** 2 == a ** 2 + b ** 2:\n",
    "        print('rectangular')\n",
    "    elif c ** 2 > a ** 2 + b ** 2:\n",
    "        print('obtuse')\n",
    "    elif c ** 2 < a ** 2 + b ** 2:\n",
    "        print('acute')\n",
    "        \n",
    "elif a >= c and a >= b and c + b > a:\n",
    "    if a ** 2 == b ** 2 + c ** 2:\n",
    "        print('rectangular')\n",
    "    elif a ** 2 > b ** 2 + c ** 2:\n",
    "        print('obtuse')\n",
    "    elif a ** 2 < b ** 2 + c ** 2:\n",
    "        print('acute')\n",
    "        \n",
    "elif b >= c and b >= a and a + c > b:\n",
    "    if b ** 2 == a ** 2 + c ** 2:\n",
    "        print('rectangular')\n",
    "    elif b ** 2 > a ** 2 + c ** 2:\n",
    "        print('obtuse')\n",
    "    elif b ** 2 < a ** 2 + c ** 2:\n",
    "        print('acute')\n",
    "else:\n",
    "    print('impossible')"
   ]
  },
  {
   "cell_type": "code",
   "execution_count": null,
   "metadata": {
    "collapsed": true
   },
   "outputs": [],
   "source": [
    "a = int(input())\n",
    "b = int(input())\n",
    "c = int(input())\n",
    "if a % 2 == 0:\n",
    "    if b % 2 == 1 or c % 2 == 1:\n",
    "        print('YES')\n",
    "    else:\n",
    "        print('NO')\n",
    "elif b % 2 == 0:\n",
    "    if a % 2 == 1 or c % 2 == 1:\n",
    "        print('YES')\n",
    "    else:\n",
    "        print('NO')\n",
    "elif c % 2 == 0:\n",
    "    if a % 2 == 1 or b % 2 == 1:\n",
    "        print('YES')\n",
    "    else:\n",
    "        print('NO')\n",
    "else:\n",
    "    print('NO')"
   ]
  },
  {
   "cell_type": "code",
   "execution_count": null,
   "metadata": {
    "collapsed": true
   },
   "outputs": [],
   "source": [
    "a = int(input())\n",
    "b = int(input())\n",
    "c = int(input())\n",
    "if a >= b and a >= c:\n",
    "    (a, c) = (c, a)\n",
    "    if a > b:\n",
    "        (a, b) = (b, a)\n",
    "        print(a, b, c)\n",
    "    else:\n",
    "        print(a, b, c)\n",
    "elif b >= a and b >= c:\n",
    "    (b, c) = (c, b)\n",
    "    if a > b:\n",
    "        (a, b) = (b, a)\n",
    "        print(a, b, c)\n",
    "    else:\n",
    "        print(a, b, c)\n",
    "elif c >= a and c >= b:\n",
    "    if a > b:\n",
    "        (a, b) = (b, a)\n",
    "        print(a, b, c)\n",
    "    else:\n",
    "        print(a, b, c)\n",
    "else:\n",
    "    print(a, b, c)"
   ]
  },
  {
   "cell_type": "code",
   "execution_count": null,
   "metadata": {
    "collapsed": true
   },
   "outputs": [],
   "source": [
    "k = int(input())\n",
    "if k > 8:\n",
    "    print('YES')\n",
    "elif k == 3 or k == 5:\n",
    "    print('YES')\n",
    "else:\n",
    "    print('NO')\n"
   ]
  },
  {
   "cell_type": "code",
   "execution_count": null,
   "metadata": {
    "collapsed": true
   },
   "outputs": [],
   "source": [
    "n = int(input())\n",
    "m = int(input())\n",
    "k = int(input())\n",
    "if (m <= k) and (k % m == 0) and (m * n > k):\n",
    "    print('YES')\n",
    "elif (n <= k) and (k % n == 0) and (m * n > k):\n",
    "    print('YES')\n",
    "else:\n",
    "    print('NO')"
   ]
  },
  {
   "cell_type": "code",
   "execution_count": null,
   "metadata": {
    "collapsed": true
   },
   "outputs": [],
   "source": [
    "a = int(input())\n",
    "b = int(input())\n",
    "c = int(input())\n",
    "d = int(input())\n",
    "e = int(input())\n",
    "if (a <= d) and (b <= e) or (b <= d) and (a <= e):\n",
    "    print('YES')\n",
    "elif (b <= d) and (c <= e) or (c <= d) and (b <= e):\n",
    "    print('YES')\n",
    "elif (a <= d) and (c <= e) and (c <= d) and (a <= e):\n",
    "    print('YES')\n",
    "else:\n",
    "    print('NO')"
   ]
  },
  {
   "cell_type": "code",
   "execution_count": null,
   "metadata": {
    "collapsed": true
   },
   "outputs": [],
   "source": []
  }
 ],
 "metadata": {
  "kernelspec": {
   "display_name": "Python 3",
   "language": "python",
   "name": "python3"
  },
  "language_info": {
   "codemirror_mode": {
    "name": "ipython",
    "version": 3
   },
   "file_extension": ".py",
   "mimetype": "text/x-python",
   "name": "python",
   "nbconvert_exporter": "python",
   "pygments_lexer": "ipython3",
   "version": "3.6.1"
  }
 },
 "nbformat": 4,
 "nbformat_minor": 2
}
