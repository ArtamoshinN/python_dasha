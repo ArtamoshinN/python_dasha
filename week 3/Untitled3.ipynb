{
 "cells": [
  {
   "cell_type": "code",
   "execution_count": 2,
   "metadata": {},
   "outputs": [
    {
     "name": "stdout",
     "output_type": "stream",
     "text": [
      "3\n",
      "4\n",
      "5\n",
      "6.000000\n"
     ]
    }
   ],
   "source": [
    "a = float(input())\n",
    "b = float(input())\n",
    "c = float(input())\n",
    "p = (a + b + c) / 2\n",
    "s = (p * (p - a) * (p - b) * (p - c))**(1 / 2)\n",
    "print('{0:.6f}'.format(s))\n"
   ]
  },
  {
   "cell_type": "code",
   "execution_count": 4,
   "metadata": {},
   "outputs": [
    {
     "name": "stdout",
     "output_type": "stream",
     "text": [
      "3\n",
      "1.361111\n"
     ]
    }
   ],
   "source": [
    "n = float(input())\n",
    "i = 2\n",
    "s = 1\n",
    "while i <= n:\n",
    "    s += 1 / i**2\n",
    "    i += 1\n",
    "print('{0:.6f}'.format(s))"
   ]
  },
  {
   "cell_type": "code",
   "execution_count": 7,
   "metadata": {},
   "outputs": [
    {
     "name": "stdout",
     "output_type": "stream",
     "text": [
      "1\n",
      "0.00\n"
     ]
    }
   ],
   "source": [
    "x = float(input())\n",
    "m = int(x)\n",
    "print('{0:.3f}'.format(x - m))"
   ]
  },
  {
   "cell_type": "code",
   "execution_count": 18,
   "metadata": {},
   "outputs": [
    {
     "name": "stdout",
     "output_type": "stream",
     "text": [
      "3.50\n",
      "3 50\n"
     ]
    }
   ],
   "source": [
    "x = float(input())\n",
    "a = int(x)\n",
    "b = round(x * 100)\n",
    "b = b % 100\n",
    "print(a, b)"
   ]
  },
  {
   "cell_type": "code",
   "execution_count": 5,
   "metadata": {},
   "outputs": [
    {
     "name": "stdout",
     "output_type": "stream",
     "text": [
      "3.9\n",
      "4\n"
     ]
    }
   ],
   "source": [
    "x = float(input())\n",
    "b = int(x)\n",
    "x = x * 10 % 10\n",
    "if x >= 5:\n",
    "    print(b + 1)\n",
    "else:\n",
    "    print(b)"
   ]
  },
  {
   "cell_type": "code",
   "execution_count": 1,
   "metadata": {
    "scrolled": true
   },
   "outputs": [
    {
     "name": "stdout",
     "output_type": "stream",
     "text": [
      "13\n",
      "179\n",
      "0\n",
      "202 27\n"
     ]
    }
   ],
   "source": [
    "p = float(input())\n",
    "x = int(input())\n",
    "y = int(input())\n",
    "s = int(x * 100 + y + (x * p) + (y * p / 100)) / 100\n",
    "x = int(s)\n",
    "y = int(s * 100 % 100)\n",
    "print(x, y)"
   ]
  },
  {
   "cell_type": "code",
   "execution_count": 13,
   "metadata": {
    "scrolled": true
   },
   "outputs": [
    {
     "name": "stdout",
     "output_type": "stream",
     "text": [
      "1\n",
      "-1\n",
      "-2\n",
      "-1.0 2.0\n"
     ]
    }
   ],
   "source": [
    "import math\n",
    "a = float(input())\n",
    "b = float(input())\n",
    "c = float(input())\n",
    "d = b**2 - 4 * a * c\n",
    "if d > 0:\n",
    "    x1 = (-b + math.sqrt(d)) / (2 * a)\n",
    "    x2 = (-b - math.sqrt(d)) / (2 * a)\n",
    "    if x1 < x2:\n",
    "        print(x1, x2)\n",
    "    else:\n",
    "        print(x2, x1)\n",
    "elif d == 0:\n",
    "    x = -b / (2 * a)\n",
    "    print(x)"
   ]
  },
  {
   "cell_type": "code",
   "execution_count": 3,
   "metadata": {},
   "outputs": [
    {
     "name": "stdout",
     "output_type": "stream",
     "text": [
      "3\n",
      "5\n",
      "4\n",
      "4\n",
      "11\n",
      "12\n",
      "2.0 1.0\n"
     ]
    }
   ],
   "source": [
    "a = float(input())\n",
    "b = float(input())\n",
    "c = float(input())\n",
    "d = float(input())\n",
    "e = float(input())\n",
    "f = float(input())\n",
    "if b != 0:\n",
    "    y = (c * e - a * f) / (b * c - a * d)\n",
    "    if c != 0:\n",
    "        x = (f - d * y) / c\n",
    "        print(x, y)\n",
    "else:\n",
    "    if a != 0:\n",
    "        x = (f * b - d * e) / (b * c - d * a)\n",
    "        if d != 0:\n",
    "            y = (f - c * x) / d\n",
    "            print(x, y)"
   ]
  },
  {
   "cell_type": "code",
   "execution_count": 5,
   "metadata": {},
   "outputs": [
    {
     "name": "stdout",
     "output_type": "stream",
     "text": [
      "hello\n",
      "l\n",
      "l\n",
      "hello\n",
      "hel\n",
      "hlo\n",
      "el\n",
      "olleh\n",
      "olh\n",
      "5\n"
     ]
    }
   ],
   "source": [
    "s = input()\n",
    "print(s[2])\n",
    "print(s[-2])\n",
    "print(s[:5])\n",
    "print(s[:-2])\n",
    "print(s[::2])\n",
    "print(s[1::2])\n",
    "print(s[::-1])\n",
    "print(s[::-2])\n",
    "print(len(s))"
   ]
  },
  {
   "cell_type": "code",
   "execution_count": 24,
   "metadata": {
    "scrolled": true
   },
   "outputs": [
    {
     "name": "stdout",
     "output_type": "stream",
     "text": [
      "offofo\n",
      "1 4\n"
     ]
    }
   ],
   "source": [
    "s = input()\n",
    "pos = s.find('f')\n",
    "if s.find('f', pos + 1) != -1:\n",
    "    print(s.find('f'), end=' ')\n",
    "    s = s[::-1]\n",
    "    pos2 = s.find('f')\n",
    "    print(len(s) - pos2 - 1)\n",
    "elif s.find('f') != -1:\n",
    "    print(s.find('f'))"
   ]
  },
  {
   "cell_type": "code",
   "execution_count": 9,
   "metadata": {},
   "outputs": [
    {
     "name": "stdout",
     "output_type": "stream",
     "text": [
      "mom i help you, how are you\n",
      "mom i ow are you\n"
     ]
    }
   ],
   "source": [
    "s = input()\n",
    "pos1 = s.find('h')\n",
    "if s.find('h', pos1 + 1) != -1:\n",
    "    s = s[::-1]\n",
    "    pos2 = s.find('h')\n",
    "s = s[::-1]\n",
    "print(s[:pos1], end='')\n",
    "print(s[(len(s) - pos2):])"
   ]
  },
  {
   "cell_type": "code",
   "execution_count": 38,
   "metadata": {},
   "outputs": [
    {
     "name": "stdout",
     "output_type": "stream",
     "text": [
      "fhhff\n",
      "3\n"
     ]
    }
   ],
   "source": [
    "s = input()\n",
    "pos1 = s.find('f')\n",
    "if s.find('f', pos1 + 1) != -1:\n",
    "    s = s[pos1 + 1:]\n",
    "    pos2 = s.find('f')\n",
    "    print(pos2 + pos1 + 1)\n",
    "elif s.find('f', pos1 + 1) == -1 and pos1 != -1:\n",
    "    print(-1)\n",
    "elif pos1 == -1:\n",
    "    print(-2)"
   ]
  },
  {
   "cell_type": "code",
   "execution_count": 6,
   "metadata": {},
   "outputs": [
    {
     "name": "stdout",
     "output_type": "stream",
     "text": [
      "hh tdd\n",
      "tdd hh\n"
     ]
    }
   ],
   "source": [
    "s = input()\n",
    "pos = s.find(' ')\n",
    "s1 = s[:pos]\n",
    "s2 = s[pos + 1:]\n",
    "space = ' '\n",
    "print(s2 + space + s1)"
   ]
  },
  {
   "cell_type": "code",
   "execution_count": 4,
   "metadata": {},
   "outputs": [
    {
     "name": "stdout",
     "output_type": "stream",
     "text": [
      "hello, world\n",
      "2\n"
     ]
    }
   ],
   "source": [
    "s = input()\n",
    "print(s.count(' ') + 1)"
   ]
  },
  {
   "cell_type": "code",
   "execution_count": 4,
   "metadata": {},
   "outputs": [
    {
     "name": "stdout",
     "output_type": "stream",
     "text": [
      "1+1=2\n",
      "one+one=2\n"
     ]
    }
   ],
   "source": [
    "s = input()\n",
    "print(s.replace('1', 'one'))"
   ]
  },
  {
   "cell_type": "code",
   "execution_count": 3,
   "metadata": {},
   "outputs": [
    {
     "name": "stdout",
     "output_type": "stream",
     "text": [
      "@kk@kk\n",
      "kkkk\n"
     ]
    }
   ],
   "source": [
    "s = input()\n",
    "print(s.replace('@', ''))"
   ]
  },
  {
   "cell_type": "code",
   "execution_count": 9,
   "metadata": {},
   "outputs": [
    {
     "name": "stdout",
     "output_type": "stream",
     "text": [
      "In the hole in the ground there lived a hobbit\n",
      "In the hole in the ground there lived a e hole in the ground there lived a hobbit\n"
     ]
    }
   ],
   "source": [
    "s = input()\n",
    "pos1 = 0\n",
    "while s.find('h', pos1) != -1:\n",
    "    pos2 = s.find('h', pos1)\n",
    "    pos1 = pos2 + 1\n",
    "pos1 = s.find('h')\n",
    "s1 = s[:pos1 + 1]\n",
    "s2 = s[pos1 + 1:pos2]\n",
    "s3 = s[pos2:]\n",
    "print(s1 + s2 * 2 + s3)"
   ]
  },
  {
   "cell_type": "code",
   "execution_count": 1,
   "metadata": {},
   "outputs": [
    {
     "name": "stdout",
     "output_type": "stream",
     "text": [
      "In the hole in the ground there lived a hobbit\n",
      "In the Hole in tHe ground tHere lived a hobbit\n"
     ]
    }
   ],
   "source": [
    "s = input()\n",
    "h1 = s.find('h')\n",
    "h2 = s.rfind('h')\n",
    "sub = s[h1 + 1:h2]\n",
    "sub = sub.replace('h', 'H')\n",
    "print(s[:h1 + 1] + sub + s[h2:])"
   ]
  },
  {
   "cell_type": "code",
   "execution_count": 5,
   "metadata": {},
   "outputs": [
    {
     "name": "stdout",
     "output_type": "stream",
     "text": [
      "aaaaaa\n",
      "a*a*a*a*a*a\n"
     ]
    }
   ],
   "source": [
    "s = input()\n",
    "s1 = s.replace('', '*')\n",
    "print(s1[1:len(s1) - 1])"
   ]
  },
  {
   "cell_type": "code",
   "execution_count": 1,
   "metadata": {},
   "outputs": [
    {
     "name": "stdout",
     "output_type": "stream",
     "text": [
      "python\n",
      "yton"
     ]
    }
   ],
   "source": [
    "s = input()\n",
    "i = 0\n",
    "while i < len(s):\n",
    "    if i % 3 == 0:\n",
    "        i += 1\n",
    "    else:\n",
    "        print(s[i], end='')\n",
    "        i += 1"
   ]
  }
 ],
 "metadata": {
  "kernelspec": {
   "display_name": "Python 3",
   "language": "python",
   "name": "python3"
  },
  "language_info": {
   "codemirror_mode": {
    "name": "ipython",
    "version": 3
   },
   "file_extension": ".py",
   "mimetype": "text/x-python",
   "name": "python",
   "nbconvert_exporter": "python",
   "pygments_lexer": "ipython3",
   "version": "3.6.1"
  }
 },
 "nbformat": 4,
 "nbformat_minor": 2
}
