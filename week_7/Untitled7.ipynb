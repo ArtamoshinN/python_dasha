{
 "cells": [
  {
   "cell_type": "code",
   "execution_count": 4,
   "metadata": {},
   "outputs": [
    {
     "name": "stdout",
     "output_type": "stream",
     "text": [
      "1 2 3 1\n",
      "{1, 2, 3}\n"
     ]
    }
   ],
   "source": [
    "myList = map(int, input().split())\n",
    "mySet = set(myList)\n",
    "print(mySet)"
   ]
  },
  {
   "cell_type": "code",
   "execution_count": 9,
   "metadata": {},
   "outputs": [
    {
     "name": "stdout",
     "output_type": "stream",
     "text": [
      "{'abc', 1, frozenset({1, 2}), 3.14}\n"
     ]
    }
   ],
   "source": [
    "mySet = {1, 3.14, 'abc', frozenset((1, 2))}\n",
    "print(mySet)"
   ]
  },
  {
   "cell_type": "code",
   "execution_count": 14,
   "metadata": {},
   "outputs": [
    {
     "name": "stdout",
     "output_type": "stream",
     "text": [
      "[1, 2, 3, 400000000]\n"
     ]
    }
   ],
   "source": [
    "mySet = {1, 2, 3, 1, 400000000}\n",
    "print(sorted(list(mySet)))"
   ]
  },
  {
   "cell_type": "code",
   "execution_count": 15,
   "metadata": {},
   "outputs": [
    {
     "name": "stdout",
     "output_type": "stream",
     "text": [
      "4\n"
     ]
    }
   ],
   "source": [
    "mySet = set('abcdabc')\n",
    "print(len(mySet))"
   ]
  },
  {
   "cell_type": "code",
   "execution_count": 23,
   "metadata": {},
   "outputs": [
    {
     "name": "stdout",
     "output_type": "stream",
     "text": [
      "4\n",
      "not in set\n"
     ]
    }
   ],
   "source": [
    "primes = {2, 3, 5, 7, 11, 13}\n",
    "n = int(input())\n",
    "if n not in primes:\n",
    "    print('not in set')\n",
    "else:\n",
    "    print('in set')"
   ]
  },
  {
   "cell_type": "code",
   "execution_count": 46,
   "metadata": {},
   "outputs": [
    {
     "name": "stdout",
     "output_type": "stream",
     "text": [
      "2 3 5 7 11 13 17\n"
     ]
    }
   ],
   "source": [
    "primes = {2, 3, 5, 7, 11, 13}\n",
    "primes.add(17)\n",
    "primes.discard(33)\n",
    "print(*primes)"
   ]
  },
  {
   "cell_type": "code",
   "execution_count": 36,
   "metadata": {},
   "outputs": [
    {
     "name": "stdout",
     "output_type": "stream",
     "text": [
      "True\n",
      "False\n",
      "False\n",
      "False\n",
      "True\n",
      "True\n"
     ]
    }
   ],
   "source": [
    "a = {1, 2, 3, 4}\n",
    "b = {1, 2, 3, 4}\n",
    "print(a == b)\n",
    "print(a != b)\n",
    "print(a < b)\n",
    "print(a > b)\n",
    "print(a <= b)\n",
    "print(a >= b)"
   ]
  },
  {
   "cell_type": "code",
   "execution_count": 41,
   "metadata": {},
   "outputs": [
    {
     "name": "stdout",
     "output_type": "stream",
     "text": [
      "{1, 2, 3, 4, 5}\n",
      "{1, 3}\n",
      "{2, 4}\n",
      "{2, 4, 5}\n"
     ]
    }
   ],
   "source": [
    "a = {1, 2, 3, 4}\n",
    "b = {1, 3, 5}\n",
    "print(a | b)\n",
    "print(a & b)\n",
    "print(a - b)\n",
    "print(a ^ b)"
   ]
  },
  {
   "cell_type": "code",
   "execution_count": 50,
   "metadata": {},
   "outputs": [
    {
     "name": "stdout",
     "output_type": "stream",
     "text": [
      "1 2 3 4 5 1 2 1 2 7 3\n",
      "6\n"
     ]
    }
   ],
   "source": [
    "myList = map(int, input().split())\n",
    "mySet = set(myList)\n",
    "print(len(mySet))"
   ]
  },
  {
   "cell_type": "code",
   "execution_count": 52,
   "metadata": {},
   "outputs": [
    {
     "name": "stdout",
     "output_type": "stream",
     "text": [
      "1 3 2\n",
      "4 3 2\n",
      "2\n"
     ]
    }
   ],
   "source": [
    "a = map(int, input().split())\n",
    "b = map(int, input().split())\n",
    "a = set(a)\n",
    "b = set(b)\n",
    "print(len(a & b))"
   ]
  },
  {
   "cell_type": "code",
   "execution_count": 3,
   "metadata": {},
   "outputs": [
    {
     "name": "stdout",
     "output_type": "stream",
     "text": [
      "1 2 6 4 5 7\n",
      "10 2 3 4 8\n",
      "2 4\n"
     ]
    }
   ],
   "source": [
    "a = map(int, input().split())\n",
    "b = map(int, input().split())\n",
    "a = set(a)\n",
    "b = set(b)\n",
    "print(*sorted(list(a & b)))"
   ]
  },
  {
   "cell_type": "code",
   "execution_count": 3,
   "metadata": {},
   "outputs": [
    {
     "name": "stdout",
     "output_type": "stream",
     "text": [
      "1 1 1 1 2 2 3 1 4 0 2\n",
      "NO\n",
      "YES\n",
      "YES\n",
      "YES\n",
      "NO\n",
      "YES\n",
      "NO\n",
      "YES\n",
      "NO\n",
      "NO\n",
      "YES\n"
     ]
    }
   ],
   "source": [
    "a = list(map(int, input().split()))\n",
    "b = set()\n",
    "for i in range(len(a)):\n",
    "    if a[i] in b:\n",
    "        print('YES')\n",
    "    else:\n",
    "        print('NO')\n",
    "        b.add(a[i])"
   ]
  },
  {
   "cell_type": "code",
   "execution_count": null,
   "metadata": {
    "collapsed": true
   },
   "outputs": [],
   "source": [
    "She sells sea shells on the sea shore;\n",
    "The shells that she sells are sea shells I'm sure.\n",
    "So if she sells sea shells on the sea shore,\n",
    "I'm sure that the shells are sea shore shells."
   ]
  },
  {
   "cell_type": "code",
   "execution_count": 21,
   "metadata": {
    "collapsed": true
   },
   "outputs": [],
   "source": [
    "fin = open('input.txt', 'w', encoding='utf8')"
   ]
  },
  {
   "cell_type": "code",
   "execution_count": 35,
   "metadata": {},
   "outputs": [
    {
     "name": "stdout",
     "output_type": "stream",
     "text": [
      "19\n"
     ]
    }
   ],
   "source": [
    "fin = open('input.txt', 'r', encoding='utf8')\n",
    "b = []\n",
    "bSet\n",
    "for i in fin:\n",
    "    a = i.split()\n",
    "    b += a\n",
    "b = set(b)\n",
    "print(len(b))"
   ]
  },
  {
   "cell_type": "code",
   "execution_count": 1,
   "metadata": {},
   "outputs": [
    {
     "name": "stdout",
     "output_type": "stream",
     "text": [
      "10\n",
      "1 2 3 4 5\n",
      "YES\n",
      "2 4 6 8 10\n",
      "NO\n",
      "HELP\n",
      "1 3 5\n"
     ]
    }
   ],
   "source": [
    "n = int(input())\n",
    "h = ['HELP']\n",
    "a = 0\n",
    "mSet = set(range(1, n + 1))\n",
    "while a != h:\n",
    "    a = input().split()\n",
    "    if a == h:\n",
    "        break\n",
    "    s = input()\n",
    "    a = set(map(int, a))\n",
    "    if s == 'YES':\n",
    "        mSet &= a\n",
    "    else:\n",
    "        mSet -= a\n",
    "print(*sorted(list(mSet)))"
   ]
  },
  {
   "cell_type": "code",
   "execution_count": 5,
   "metadata": {},
   "outputs": [
    {
     "name": "stdout",
     "output_type": "stream",
     "text": [
      "3\n",
      "3\n",
      "rus\n",
      "eng\n",
      "jap\n",
      "2\n",
      "rus\n",
      "eng\n",
      "1\n",
      "eng\n",
      "1\n",
      "eng\n",
      "3\n",
      "eng\n",
      "jap\n",
      "rus\n"
     ]
    }
   ],
   "source": [
    "n = int(input())\n",
    "a = set()\n",
    "b = set()\n",
    "c = set()\n",
    "if n != 0:\n",
    "    num = int(input())\n",
    "    if num != 0:\n",
    "        for i in range(num):\n",
    "            lang = input()\n",
    "            a.add(lang)\n",
    "            b.add(lang)\n",
    "    if n - 1 != 0:\n",
    "        for i in range(n - 1):\n",
    "            num = int(input())\n",
    "            if num != 0:\n",
    "                for j in range(num):\n",
    "                    lang = input()\n",
    "                    a.add(lang)\n",
    "                    c.add(lang)\n",
    "            else:\n",
    "                continue\n",
    "            b &= c\n",
    "            c = set()\n",
    "print(len(b))\n",
    "for i in b:\n",
    "    print(i)\n",
    "print(len(a))\n",
    "for i in a:\n",
    "    print(i)"
   ]
  },
  {
   "cell_type": "code",
   "execution_count": 5,
   "metadata": {},
   "outputs": [
    {
     "name": "stdout",
     "output_type": "stream",
     "text": [
      "True\n"
     ]
    }
   ],
   "source": [
    "capitals = {'Russia': 'Moscow', 'France': 'Paris'}\n",
    "capitals['USA'] = 'Washington'\n",
    "del capitals['France']\n",
    "print('Russia' in capitals)"
   ]
  },
  {
   "cell_type": "code",
   "execution_count": 8,
   "metadata": {},
   "outputs": [
    {
     "name": "stdout",
     "output_type": "stream",
     "text": [
      "x 5\n",
      "y 3\n"
     ]
    }
   ],
   "source": [
    "myDict = dict([('x', 5), ('y', 3)])\n",
    "for i in myDict:\n",
    "    print(i, myDict[i])"
   ]
  },
  {
   "cell_type": "code",
   "execution_count": 12,
   "metadata": {},
   "outputs": [
    {
     "name": "stdout",
     "output_type": "stream",
     "text": [
      "hello\n",
      "e 1\n",
      "h 1\n",
      "l 2\n",
      "o 1\n"
     ]
    }
   ],
   "source": [
    "s = input()\n",
    "letters = dict()\n",
    "for c in s:\n",
    "    letters[c] = letters.get(c, 0) + 1\n",
    "for c in sorted(letters):\n",
    "    print(c, letters[c])"
   ]
  },
  {
   "cell_type": "code",
   "execution_count": 16,
   "metadata": {},
   "outputs": [
    {
     "name": "stdout",
     "output_type": "stream",
     "text": [
      "2\n",
      "2 3 4\n",
      "3 2 3\n",
      "2 2 3\n"
     ]
    }
   ],
   "source": [
    "gasCost = {}\n",
    "n = int(input())\n",
    "costs = list(map(int, input().split()))\n",
    "btypes = (92, 95, 98)\n",
    "for now in range(len(btypes)):\n",
    "    gasCost[btypes[now]] = costs[now]\n",
    "for i in range(n - 1):\n",
    "    costs = list(map(int, input().split()))\n",
    "    for now in range(len(btypes)):\n",
    "        gasCost[btypes[now]] = min(costs[now], gasCost[btypes[now]])\n",
    "print(gasCost[92], gasCost[95], gasCost[98])"
   ]
  },
  {
   "cell_type": "code",
   "execution_count": 20,
   "metadata": {},
   "outputs": [
    {
     "name": "stdout",
     "output_type": "stream",
     "text": [
      "4545bbbg gang\n",
      "False\n"
     ]
    }
   ],
   "source": [
    "s = input()\n",
    "print(s.isalpha())\n",
    "s.alnum()\n",
    "s.isdigit()\n",
    "s.isupper()\n",
    "s.strip()\n",
    "s.lstrip()\n",
    "s.rstrip()"
   ]
  },
  {
   "cell_type": "code",
   "execution_count": 5,
   "metadata": {},
   "outputs": [
    {
     "name": "stdout",
     "output_type": "stream",
     "text": [
      "{'malum': ['punishment', 'apple'], 'multa': ['punishment'], 'pomum': ['apple'], 'popula': ['apple'], 'baca': ['fruit'], 'bacca': ['fruit'], 'popum': ['fruit']}\n",
      "baca - fruit\n",
      "bacca - fruit\n",
      "malum - apple, punishment\n",
      "multa - punishment\n",
      "pomum - apple\n",
      "popula - apple\n",
      "popum - fruit\n"
     ]
    }
   ],
   "source": [
    "fin = open('input.txt')\n",
    "myDict = {}\n",
    "for line in fin:\n",
    "    eng, latins = line.split('-')\n",
    "    latinsList = latins.split(',')\n",
    "    eng = eng.strip()\n",
    "    for latin in latinsList:\n",
    "        if latin.strip() not in myDict:\n",
    "            myDict[latin.strip()] = []\n",
    "        myDict[latin.strip()].append(eng)\n",
    "print(myDict)\n",
    "for latin in sorted(myDict):\n",
    "    print(latin, '-', ', '.join(sorted(myDict[latin])))"
   ]
  },
  {
   "cell_type": "code",
   "execution_count": null,
   "metadata": {
    "collapsed": true
   },
   "outputs": [],
   "source": [
    "tree = {'a':\n",
    "            {\n",
    "            'b': dict(),\n",
    "            'c': {\n",
    "                 'd': dict(), \n",
    "                 'e': dict()\n",
    "                 }\n",
    "            }\n",
    "       }"
   ]
  },
  {
   "cell_type": "code",
   "execution_count": 2,
   "metadata": {},
   "outputs": [
    {
     "name": "stdout",
     "output_type": "stream",
     "text": [
      "0 0 0 0 0 0 1 0 0 1 0 0 1 0 2 2 0 0 0 0 1 2 3 3 1 1 4 0 1 0 1 2 4 1 5 0 0 "
     ]
    }
   ],
   "source": [
    "fin = open('input.txt', 'r', encoding='utf8')\n",
    "c = list()\n",
    "b = list()\n",
    "count = 0\n",
    "for i in fin:\n",
    "    a = i.split()\n",
    "    b += a\n",
    "for j in range(len(b)):\n",
    "    if b[j] in c:\n",
    "        count = c.count(b[j])\n",
    "        print(count, end=' ')\n",
    "        count = 0\n",
    "    else:\n",
    "        print(count, end=' ')\n",
    "    c.append(b[j])"
   ]
  },
  {
   "cell_type": "code",
   "execution_count": 1,
   "metadata": {},
   "outputs": [
    {
     "name": "stdout",
     "output_type": "stream",
     "text": [
      "0 0 0 0 0 0 1 0 0 1 0 0 1 0 2 2 0 0 0 0 1 2 3 3 1 1 4 0 1 0 1 2 4 1 5 0 0 "
     ]
    }
   ],
   "source": [
    "fin = open('input.txt', 'r', encoding='utf8')\n",
    "count = {}\n",
    "words = list()\n",
    "for line in fin:\n",
    "    words += list(line.strip().split())\n",
    "for i in words:\n",
    "    count[i] = count.get(i, 0) + 1\n",
    "    print(count[i] - 1, end=' ')"
   ]
  },
  {
   "cell_type": "code",
   "execution_count": null,
   "metadata": {
    "collapsed": true
   },
   "outputs": [],
   "source": []
  }
 ],
 "metadata": {
  "kernelspec": {
   "display_name": "Python 3",
   "language": "python",
   "name": "python3"
  },
  "language_info": {
   "codemirror_mode": {
    "name": "ipython",
    "version": 3
   },
   "file_extension": ".py",
   "mimetype": "text/x-python",
   "name": "python",
   "nbconvert_exporter": "python",
   "pygments_lexer": "ipython3",
   "version": "3.6.1"
  }
 },
 "nbformat": 4,
 "nbformat_minor": 2
}
