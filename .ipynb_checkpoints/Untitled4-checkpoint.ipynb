{
 "cells": [
  {
   "cell_type": "code",
   "execution_count": 1,
   "metadata": {},
   "outputs": [
    {
     "name": "stdout",
     "output_type": "stream",
     "text": [
      "120\n"
     ]
    }
   ],
   "source": [
    "def factorial(n):\n",
    "    result = 1\n",
    "    while n > 1:\n",
    "        result *= n\n",
    "        n -= 1\n",
    "    return result\n",
    "print(factorial(5))"
   ]
  },
  {
   "cell_type": "code",
   "execution_count": 2,
   "metadata": {},
   "outputs": [
    {
     "name": "stdout",
     "output_type": "stream",
     "text": [
      "6\n"
     ]
    }
   ],
   "source": [
    "def factorial(n):\n",
    "    result = 1\n",
    "    while n > 1:\n",
    "        result *= n\n",
    "        n -= 1\n",
    "    return result\n",
    "def cnk(n, k):\n",
    "    return factorial(n) // (factorial(k) * factorial(n - k))\n",
    "print(cnk(4, 2))"
   ]
  },
  {
   "cell_type": "code",
   "execution_count": 6,
   "metadata": {},
   "outputs": [
    {
     "name": "stdout",
     "output_type": "stream",
     "text": [
      "2\n",
      "3\n",
      "1\n",
      "2\n",
      "1\n"
     ]
    }
   ],
   "source": [
    "def min4(a, b, c, d):\n",
    "    m = min(min(a, b), min(c, d))\n",
    "    return m\n",
    "a = int(input())\n",
    "b = int(input())\n",
    "c = int(input())\n",
    "d = int(input())\n",
    "print(min4(a, b, c, d))"
   ]
  },
  {
   "cell_type": "code",
   "execution_count": 1,
   "metadata": {},
   "outputs": [
    {
     "name": "stdout",
     "output_type": "stream",
     "text": [
      "1\n",
      "2\n",
      "3\n",
      "4\n",
      "2.8284271247461903\n"
     ]
    }
   ],
   "source": [
    "def distance(x1, y1, x2, y2):\n",
    "    x = (x2 - x1)**2\n",
    "    y = (y2 - y1)**2\n",
    "    return (x + y)**0.5\n",
    "x1 = int(input())\n",
    "y1 = int(input())\n",
    "x2 = int(input())\n",
    "y2 = int(input())\n",
    "print(distance(x1, y1, x2, y2))"
   ]
  },
  {
   "cell_type": "code",
   "execution_count": 2,
   "metadata": {},
   "outputs": [
    {
     "name": "stdout",
     "output_type": "stream",
     "text": [
      "0\n",
      "0\n",
      "1\n",
      "0\n",
      "0\n",
      "1\n",
      "3.414213562373095\n"
     ]
    }
   ],
   "source": [
    "def distance(x1, y1, x2, y2):\n",
    "    x = (x2 - x1)**2\n",
    "    y = (y2 - y1)**2\n",
    "    return (x + y)**0.5\n",
    "x1 = int(input())\n",
    "y1 = int(input())\n",
    "x2 = int(input())\n",
    "y2 = int(input())\n",
    "x3 = int(input())\n",
    "y3 = int(input())\n",
    "p = distance(x1, y1, x2, y2) + distance(x1, y1, x3, y3)\n",
    "p += distance(x2, y2, x3, y3)\n",
    "print(p)"
   ]
  },
  {
   "cell_type": "code",
   "execution_count": 2,
   "metadata": {},
   "outputs": [
    {
     "name": "stdout",
     "output_type": "stream",
     "text": [
      "5\n",
      "7\n",
      "3\n"
     ]
    }
   ],
   "source": [
    "def max2(a, b):\n",
    "    if a > b:\n",
    "        return a\n",
    "    return b\n",
    "    \n",
    "print(max2(2, 5))\n",
    "print(max2(7, 4))\n",
    "print(max2(3, 3))"
   ]
  },
  {
   "cell_type": "code",
   "execution_count": 4,
   "metadata": {},
   "outputs": [
    {
     "name": "stdout",
     "output_type": "stream",
     "text": [
      "4 5\n"
     ]
    }
   ],
   "source": [
    "def sort2(a, b):\n",
    "    if a < b:\n",
    "        return a, b\n",
    "    return b, a\n",
    "\n",
    "min, max = sort2(5, 4)\n",
    "print(min, max)\n"
   ]
  },
  {
   "cell_type": "code",
   "execution_count": 6,
   "metadata": {},
   "outputs": [
    {
     "name": "stdout",
     "output_type": "stream",
     "text": [
      "6\n",
      "EVEN\n"
     ]
    }
   ],
   "source": [
    "def isEven(n):\n",
    "    return n % 2 == 0\n",
    "\n",
    "n = int(input())\n",
    "if isEven(n):\n",
    "    print('EVEN')\n",
    "else:\n",
    "    print('ODD')"
   ]
  },
  {
   "cell_type": "code",
   "execution_count": 15,
   "metadata": {},
   "outputs": [
    {
     "name": "stdout",
     "output_type": "stream",
     "text": [
      "0.5\n",
      "0.4\n",
      "YES\n"
     ]
    }
   ],
   "source": [
    "def IsPointInSquare(x, y):\n",
    "    return -1 <= x <= 1 and -1 <= y <= 1\n",
    "\n",
    "x = float(input())\n",
    "y = float(input())\n",
    "if IsPointInSquare(x, y):\n",
    "    print('YES')\n",
    "else:\n",
    "    print('NO')"
   ]
  },
  {
   "cell_type": "code",
   "execution_count": 4,
   "metadata": {},
   "outputs": [
    {
     "name": "stdout",
     "output_type": "stream",
     "text": [
      "0.5\n",
      "0.5\n",
      "0\n",
      "0\n",
      "1\n",
      "YES\n"
     ]
    }
   ],
   "source": [
    "def IsPointInCircle(x, y, xc, yc, r):\n",
    "    return (x - xc)**2 + (y - yc)**2 <= r**2\n",
    "\n",
    "x = float(input())\n",
    "y = float(input())\n",
    "xc = float(input())\n",
    "yc = float(input())\n",
    "r = float(input())\n",
    "if IsPointInCircle(x, y, xc, yc, r):\n",
    "    print('YES')\n",
    "else:\n",
    "    print('NO')"
   ]
  },
  {
   "cell_type": "code",
   "execution_count": null,
   "metadata": {
    "collapsed": true
   },
   "outputs": [],
   "source": [
    "def IsPointInRomb(x, y, xc, yc):\n",
    "    \n",
    "|(x - rx) / dx| + |(y - ry) / dy| <= 2"
   ]
  },
  {
   "cell_type": "code",
   "execution_count": 12,
   "metadata": {},
   "outputs": [
    {
     "name": "stdout",
     "output_type": "stream",
     "text": [
      "3\n",
      "3\n"
     ]
    }
   ],
   "source": [
    "def MinDivisor(n):\n",
    "    i = 2\n",
    "    while i <= n:\n",
    "        if n % i == 0:\n",
    "            break\n",
    "        elif i >= n**0.5:\n",
    "            return n\n",
    "            break\n",
    "        else:\n",
    "            i += 1\n",
    "    return i\n",
    "n = int(input())\n",
    "print(MinDivisor(n))"
   ]
  },
  {
   "cell_type": "code",
   "execution_count": 4,
   "metadata": {},
   "outputs": [
    {
     "name": "stdout",
     "output_type": "stream",
     "text": [
      "9\n",
      "NO\n"
     ]
    }
   ],
   "source": [
    "def IsPrime(n):\n",
    "    j = 0\n",
    "    i = 2\n",
    "    while i <= n and j < 3:\n",
    "        if n % i == 0:\n",
    "            j += 1\n",
    "        i += 1\n",
    "    return j\n",
    "n = int(input())\n",
    "if IsPrime(n) == 1:\n",
    "    print('YES')\n",
    "else:\n",
    "    print('NO')"
   ]
  },
  {
   "cell_type": "code",
   "execution_count": 4,
   "metadata": {},
   "outputs": [
    {
     "name": "stdout",
     "output_type": "stream",
     "text": [
      "4\n",
      "NO\n"
     ]
    }
   ],
   "source": [
    "def IsPrime(n):\n",
    "    i = 2\n",
    "    while i < n:\n",
    "        if n % i == 0:\n",
    "            return 'NO'\n",
    "            break\n",
    "        elif i >= n**0.5:\n",
    "            return 'YES'\n",
    "        else:\n",
    "            i += 1\n",
    "    return 'YES'\n",
    "n = int(input())\n",
    "print(IsPrime(n))"
   ]
  },
  {
   "cell_type": "code",
   "execution_count": 1,
   "metadata": {
    "scrolled": true
   },
   "outputs": [
    {
     "name": "stdout",
     "output_type": "stream",
     "text": [
      "4\n",
      "4\n",
      "5\n",
      "6\n",
      "6\n",
      "1\n",
      "3\n",
      "0\n",
      "3\n",
      "1\n",
      "5\n"
     ]
    }
   ],
   "source": [
    "def rec():\n",
    "    n = int(input())\n",
    "    if n != 0:\n",
    "        if n % 2 == 0:\n",
    "             print(n)\n",
    "        rec()\n",
    "        if n % 2 != 0:\n",
    "            print(n)\n",
    "rec()"
   ]
  },
  {
   "cell_type": "code",
   "execution_count": null,
   "metadata": {
    "collapsed": true
   },
   "outputs": [],
   "source": [
    "def factorial(n):\n",
    "    if n == 0:\n",
    "        return 1\n",
    "    return n * factorial(n - 1)\n",
    "n = int(input())\n",
    "print(factorial(n))"
   ]
  },
  {
   "cell_type": "code",
   "execution_count": 2,
   "metadata": {},
   "outputs": [
    {
     "name": "stdout",
     "output_type": "stream",
     "text": [
      "2\n",
      "1\n",
      "2.0\n"
     ]
    }
   ],
   "source": [
    "def power(a, n):\n",
    "    if n == 0:\n",
    "        return 1\n",
    "    return a * power(a, n - 1)\n",
    "a = float(input())\n",
    "n = int(input())\n",
    "print(power(a, n))"
   ]
  },
  {
   "cell_type": "code",
   "execution_count": 7,
   "metadata": {},
   "outputs": [
    {
     "name": "stdout",
     "output_type": "stream",
     "text": [
      "67\n",
      "3\n",
      "70\n"
     ]
    }
   ],
   "source": [
    "def sum(a, b):\n",
    "    if a == 0:\n",
    "        return b\n",
    "    return sum(a - 1, b + 1)\n",
    "a = int(input())\n",
    "b = int(input())\n",
    "print(sum(a, b))"
   ]
  },
  {
   "cell_type": "code",
   "execution_count": 14,
   "metadata": {},
   "outputs": [
    {
     "name": "stdout",
     "output_type": "stream",
     "text": [
      "2\n",
      "3\n",
      "8.0\n"
     ]
    }
   ],
   "source": [
    "def digress(a, n):\n",
    "    while n != 0:\n",
    "        if n % 2 == 0:\n",
    "            return digress(a**2, n / 2)\n",
    "            break\n",
    "        elif n % 2 != 0:\n",
    "            return a * digress(a, n - 1)\n",
    "    return a ** n\n",
    "a = float(input())\n",
    "n = int(input())\n",
    "print(digress(a, n))"
   ]
  },
  {
   "cell_type": "code",
   "execution_count": 5,
   "metadata": {},
   "outputs": [
    {
     "name": "stdout",
     "output_type": "stream",
     "text": [
      "9\n",
      "6\n",
      "3\n"
     ]
    }
   ],
   "source": [
    "def gcd(a, b):\n",
    "    if b == 0:\n",
    "        return a\n",
    "    return gcd(b, a % b) \n",
    "a = int(input())\n",
    "b = int(input())\n",
    "print(gcd(a, b))"
   ]
  },
  {
   "cell_type": "code",
   "execution_count": 1,
   "metadata": {},
   "outputs": [
    {
     "name": "stdout",
     "output_type": "stream",
     "text": [
      "10\n",
      "100\n",
      "1 10\n"
     ]
    }
   ],
   "source": [
    "def ReduceFraction(n, m):\n",
    "    if m == 0:\n",
    "        return n\n",
    "    else:\n",
    "        return ReduceFraction(m, n % m)\n",
    "n = int(input())\n",
    "m = int(input())\n",
    "p = n\n",
    "q = m\n",
    "print(n // ReduceFraction(n, m), m // ReduceFraction(n, m))"
   ]
  },
  {
   "cell_type": "code",
   "execution_count": 28,
   "metadata": {},
   "outputs": [
    {
     "name": "stdout",
     "output_type": "stream",
     "text": [
      "1\n",
      "2\n",
      "3\n",
      "0\n",
      "6\n"
     ]
    }
   ],
   "source": [
    "def sum(s):\n",
    "    n = int(input())\n",
    "    if n != 0:\n",
    "        s += n\n",
    "    else:\n",
    "        return s\n",
    "    return sum(s)\n",
    "s = 0\n",
    "print(sum(s))"
   ]
  },
  {
   "cell_type": "code",
   "execution_count": 5,
   "metadata": {},
   "outputs": [
    {
     "name": "stdout",
     "output_type": "stream",
     "text": [
      "1\n",
      "2\n",
      "0\n",
      "0\n",
      "2\n",
      "1\n"
     ]
    }
   ],
   "source": [
    "def rec():\n",
    "    n = int(input())\n",
    "    if n != 0:\n",
    "        rec()\n",
    "    print(n)\n",
    "rec()"
   ]
  },
  {
   "cell_type": "code",
   "execution_count": null,
   "metadata": {
    "collapsed": true
   },
   "outputs": [],
   "source": []
  }
 ],
 "metadata": {
  "kernelspec": {
   "display_name": "Python 3",
   "language": "python",
   "name": "python3"
  },
  "language_info": {
   "codemirror_mode": {
    "name": "ipython",
    "version": 3
   },
   "file_extension": ".py",
   "mimetype": "text/x-python",
   "name": "python",
   "nbconvert_exporter": "python",
   "pygments_lexer": "ipython3",
   "version": "3.6.1"
  }
 },
 "nbformat": 4,
 "nbformat_minor": 2
}
