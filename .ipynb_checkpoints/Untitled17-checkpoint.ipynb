{
 "cells": [
  {
   "cell_type": "code",
   "execution_count": 31,
   "metadata": {},
   "outputs": [
    {
     "name": "stdout",
     "output_type": "stream",
     "text": [
      "100000\n",
      "3:46:40\n"
     ]
    }
   ],
   "source": [
    "n = int(input())\n",
    "h = n // 3600 % 24\n",
    "m = n // 60 % 60\n",
    "s = n % 60\n",
    "print(h, str(m // 10) + str(m % 10), str(s // 10) + str(s % 10), sep=':')\n"
   ]
  }
 ],
 "metadata": {
  "kernelspec": {
   "display_name": "Python 3",
   "language": "python",
   "name": "python3"
  },
  "language_info": {
   "codemirror_mode": {
    "name": "ipython",
    "version": 3
   },
   "file_extension": ".py",
   "mimetype": "text/x-python",
   "name": "python",
   "nbconvert_exporter": "python",
   "pygments_lexer": "ipython3",
   "version": "3.6.1"
  }
 },
 "nbformat": 4,
 "nbformat_minor": 2
}
